{
 "cells": [
  {
   "cell_type": "markdown",
   "metadata": {},
   "source": [
    "## Preprocessing"
   ]
  },
  {
   "cell_type": "code",
   "execution_count": 2,
   "metadata": {},
   "outputs": [
    {
     "data": {
      "text/html": [
       "<div>\n",
       "<style scoped>\n",
       "    .dataframe tbody tr th:only-of-type {\n",
       "        vertical-align: middle;\n",
       "    }\n",
       "\n",
       "    .dataframe tbody tr th {\n",
       "        vertical-align: top;\n",
       "    }\n",
       "\n",
       "    .dataframe thead th {\n",
       "        text-align: right;\n",
       "    }\n",
       "</style>\n",
       "<table border=\"1\" class=\"dataframe\">\n",
       "  <thead>\n",
       "    <tr style=\"text-align: right;\">\n",
       "      <th></th>\n",
       "      <th>EIN</th>\n",
       "      <th>NAME</th>\n",
       "      <th>APPLICATION_TYPE</th>\n",
       "      <th>AFFILIATION</th>\n",
       "      <th>CLASSIFICATION</th>\n",
       "      <th>USE_CASE</th>\n",
       "      <th>ORGANIZATION</th>\n",
       "      <th>STATUS</th>\n",
       "      <th>INCOME_AMT</th>\n",
       "      <th>SPECIAL_CONSIDERATIONS</th>\n",
       "      <th>ASK_AMT</th>\n",
       "      <th>IS_SUCCESSFUL</th>\n",
       "    </tr>\n",
       "  </thead>\n",
       "  <tbody>\n",
       "    <tr>\n",
       "      <th>0</th>\n",
       "      <td>10520599</td>\n",
       "      <td>BLUE KNIGHTS MOTORCYCLE CLUB</td>\n",
       "      <td>T10</td>\n",
       "      <td>Independent</td>\n",
       "      <td>C1000</td>\n",
       "      <td>ProductDev</td>\n",
       "      <td>Association</td>\n",
       "      <td>1</td>\n",
       "      <td>0</td>\n",
       "      <td>N</td>\n",
       "      <td>5000</td>\n",
       "      <td>1</td>\n",
       "    </tr>\n",
       "    <tr>\n",
       "      <th>1</th>\n",
       "      <td>10531628</td>\n",
       "      <td>AMERICAN CHESAPEAKE CLUB CHARITABLE TR</td>\n",
       "      <td>T3</td>\n",
       "      <td>Independent</td>\n",
       "      <td>C2000</td>\n",
       "      <td>Preservation</td>\n",
       "      <td>Co-operative</td>\n",
       "      <td>1</td>\n",
       "      <td>1-9999</td>\n",
       "      <td>N</td>\n",
       "      <td>108590</td>\n",
       "      <td>1</td>\n",
       "    </tr>\n",
       "    <tr>\n",
       "      <th>2</th>\n",
       "      <td>10547893</td>\n",
       "      <td>ST CLOUD PROFESSIONAL FIREFIGHTERS</td>\n",
       "      <td>T5</td>\n",
       "      <td>CompanySponsored</td>\n",
       "      <td>C3000</td>\n",
       "      <td>ProductDev</td>\n",
       "      <td>Association</td>\n",
       "      <td>1</td>\n",
       "      <td>0</td>\n",
       "      <td>N</td>\n",
       "      <td>5000</td>\n",
       "      <td>0</td>\n",
       "    </tr>\n",
       "    <tr>\n",
       "      <th>3</th>\n",
       "      <td>10553066</td>\n",
       "      <td>SOUTHSIDE ATHLETIC ASSOCIATION</td>\n",
       "      <td>T3</td>\n",
       "      <td>CompanySponsored</td>\n",
       "      <td>C2000</td>\n",
       "      <td>Preservation</td>\n",
       "      <td>Trust</td>\n",
       "      <td>1</td>\n",
       "      <td>10000-24999</td>\n",
       "      <td>N</td>\n",
       "      <td>6692</td>\n",
       "      <td>1</td>\n",
       "    </tr>\n",
       "    <tr>\n",
       "      <th>4</th>\n",
       "      <td>10556103</td>\n",
       "      <td>GENETIC RESEARCH INSTITUTE OF THE DESERT</td>\n",
       "      <td>T3</td>\n",
       "      <td>Independent</td>\n",
       "      <td>C1000</td>\n",
       "      <td>Heathcare</td>\n",
       "      <td>Trust</td>\n",
       "      <td>1</td>\n",
       "      <td>100000-499999</td>\n",
       "      <td>N</td>\n",
       "      <td>142590</td>\n",
       "      <td>1</td>\n",
       "    </tr>\n",
       "  </tbody>\n",
       "</table>\n",
       "</div>"
      ],
      "text/plain": [
       "        EIN                                      NAME APPLICATION_TYPE   \n",
       "0  10520599              BLUE KNIGHTS MOTORCYCLE CLUB              T10  \\\n",
       "1  10531628    AMERICAN CHESAPEAKE CLUB CHARITABLE TR               T3   \n",
       "2  10547893        ST CLOUD PROFESSIONAL FIREFIGHTERS               T5   \n",
       "3  10553066            SOUTHSIDE ATHLETIC ASSOCIATION               T3   \n",
       "4  10556103  GENETIC RESEARCH INSTITUTE OF THE DESERT               T3   \n",
       "\n",
       "        AFFILIATION CLASSIFICATION      USE_CASE  ORGANIZATION  STATUS   \n",
       "0       Independent          C1000    ProductDev   Association       1  \\\n",
       "1       Independent          C2000  Preservation  Co-operative       1   \n",
       "2  CompanySponsored          C3000    ProductDev   Association       1   \n",
       "3  CompanySponsored          C2000  Preservation         Trust       1   \n",
       "4       Independent          C1000     Heathcare         Trust       1   \n",
       "\n",
       "      INCOME_AMT SPECIAL_CONSIDERATIONS  ASK_AMT  IS_SUCCESSFUL  \n",
       "0              0                      N     5000              1  \n",
       "1         1-9999                      N   108590              1  \n",
       "2              0                      N     5000              0  \n",
       "3    10000-24999                      N     6692              1  \n",
       "4  100000-499999                      N   142590              1  "
      ]
     },
     "execution_count": 2,
     "metadata": {},
     "output_type": "execute_result"
    }
   ],
   "source": [
    "# Import our dependencies\n",
    "from sklearn.model_selection import train_test_split\n",
    "from sklearn.preprocessing import StandardScaler\n",
    "import pandas as pd\n",
    "import tensorflow as tf\n",
    "\n",
    "#  Import and read the charity_data.csv.\n",
    "import pandas as pd \n",
    "application_df = pd.read_csv(\"https://static.bc-edx.com/data/dl-1-2/m21/lms/starter/charity_data.csv\")\n",
    "application_df.head()"
   ]
  },
  {
   "cell_type": "code",
   "execution_count": 3,
   "metadata": {},
   "outputs": [],
   "source": [
    "# Drop the non-beneficial ID columns, 'EIN' and 'NAME'.\n",
    "app_df = application_df.drop(columns=['EIN', 'NAME'])"
   ]
  },
  {
   "cell_type": "code",
   "execution_count": 4,
   "metadata": {},
   "outputs": [
    {
     "data": {
      "text/plain": [
       "APPLICATION_TYPE            17\n",
       "AFFILIATION                  6\n",
       "CLASSIFICATION              71\n",
       "USE_CASE                     5\n",
       "ORGANIZATION                 4\n",
       "STATUS                       2\n",
       "INCOME_AMT                   9\n",
       "SPECIAL_CONSIDERATIONS       2\n",
       "ASK_AMT                   8747\n",
       "IS_SUCCESSFUL                2\n",
       "dtype: int64"
      ]
     },
     "execution_count": 4,
     "metadata": {},
     "output_type": "execute_result"
    }
   ],
   "source": [
    "# Determine the number of unique values in each column.\n",
    "app_df.nunique()"
   ]
  },
  {
   "cell_type": "code",
   "execution_count": 7,
   "metadata": {},
   "outputs": [
    {
     "name": "stdout",
     "output_type": "stream",
     "text": [
      "APPLICATION_TYPE\n",
      "T3     27037\n",
      "T4      1542\n",
      "T6      1216\n",
      "T5      1173\n",
      "T19     1065\n",
      "T8       737\n",
      "T7       725\n",
      "T10      528\n",
      "T9       156\n",
      "T13       66\n",
      "T12       27\n",
      "T2        16\n",
      "T25        3\n",
      "T14        3\n",
      "T29        2\n",
      "T15        2\n",
      "T17        1\n",
      "Name: count, dtype: int64\n"
     ]
    }
   ],
   "source": [
    "# Look at APPLICATION_TYPE value counts for binning\n",
    "app_type_counts = app_df[\"APPLICATION_TYPE\"].value_counts()\n",
    "print(app_type_counts)"
   ]
  },
  {
   "cell_type": "code",
   "execution_count": 11,
   "metadata": {},
   "outputs": [
    {
     "data": {
      "text/plain": [
       "APPLICATION_TYPE\n",
       "T3       27037\n",
       "Other     7262\n",
       "Name: count, dtype: int64"
      ]
     },
     "execution_count": 11,
     "metadata": {},
     "output_type": "execute_result"
    }
   ],
   "source": [
    "# Choose a cutoff value and create a list of application types to be replaced\n",
    "# use the variable name `application_types_to_replace`\n",
    "cutoff = 0.05 * len(app_df)\n",
    "application_types_to_replace = list(app_type_counts[app_type_counts < cutoff].index)\n",
    "\n",
    "# Replace in dataframe\n",
    "for app in application_types_to_replace:\n",
    "    app_df['APPLICATION_TYPE'] = app_df['APPLICATION_TYPE'].replace(app,\"Other\")\n",
    "\n",
    "# Check to make sure binning was successful\n",
    "app_df['APPLICATION_TYPE'].value_counts()"
   ]
  },
  {
   "cell_type": "code",
   "execution_count": 18,
   "metadata": {},
   "outputs": [
    {
     "name": "stdout",
     "output_type": "stream",
     "text": [
      "CLASSIFICATION\n",
      "C1000    17326\n",
      "C2000     6074\n",
      "C1200     4837\n",
      "Other     2261\n",
      "C3000     1918\n",
      "C2100     1883\n",
      "Name: count, dtype: int64\n"
     ]
    }
   ],
   "source": [
    "# Look at CLASSIFICATION value counts for binning\n",
    "class_counts = app_df[\"CLASSIFICATION\"].value_counts()\n",
    "print(class_counts)\n",
    "replace_class = list(class_counts[class_counts < 1000].index)\n",
    "\n",
    "# Replace in DataFrame\n",
    "for cls in replace_class:\n",
    "    app_df['CLASSIFICATION'] = app_df['CLASSIFICATION'].replace(cls, \"Other\")"
   ]
  },
  {
   "cell_type": "code",
   "execution_count": 21,
   "metadata": {},
   "outputs": [
    {
     "name": "stdout",
     "output_type": "stream",
     "text": [
      "CLASSIFICATION\n",
      "C1000    17326\n",
      "C2000     6074\n",
      "C1200     4837\n",
      "Other     2261\n",
      "C3000     1918\n",
      "C2100     1883\n",
      "Name: count, dtype: int64\n"
     ]
    }
   ],
   "source": [
    "# You may find it helpful to look at CLASSIFICATION value counts >1\n",
    "class_counts = app_df['CLASSIFICATION'].value_counts()\n",
    "class_counts_greater_than_one = class_counts[class_counts > 1]\n",
    "print(class_counts_greater_than_one)"
   ]
  },
  {
   "cell_type": "code",
   "execution_count": 23,
   "metadata": {},
   "outputs": [
    {
     "data": {
      "text/plain": [
       "CLASSIFICATION\n",
       "C1000    17326\n",
       "C2000     6074\n",
       "C1200     4837\n",
       "Other     2261\n",
       "C3000     1918\n",
       "C2100     1883\n",
       "Name: count, dtype: int64"
      ]
     },
     "execution_count": 23,
     "metadata": {},
     "output_type": "execute_result"
    }
   ],
   "source": [
    "# Choose a cutoff value and create a list of classifications to be replaced\n",
    "# use the variable name `classifications_to_replace`\n",
    "cutoff_value = 1000\n",
    "classifications_to_replace = list(class_counts[class_counts < cutoff_value].index)\n",
    "\n",
    "# Replace in dataframe\n",
    "for cls in classifications_to_replace:\n",
    "    app_df['CLASSIFICATION'] = app_df['CLASSIFICATION'].replace(cls,\"Other\")\n",
    "    \n",
    "# Check to make sure binning was successful\n",
    "app_df['CLASSIFICATION'].value_counts()"
   ]
  },
  {
   "cell_type": "code",
   "execution_count": 27,
   "metadata": {},
   "outputs": [],
   "source": [
    "# Convert categorical data to numeric with `pd.get_dummies`\n",
    "app_df = pd.get_dummies(app_df)"
   ]
  },
  {
   "cell_type": "code",
   "execution_count": 31,
   "metadata": {},
   "outputs": [],
   "source": [
    "# Split our preprocessed data into our features and target arrays\n",
    "y = app_df[\"IS_SUCCESSFUL\"].values\n",
    "X = app_df.drop([\"IS_SUCCESSFUL\"], axis=1).values\n",
    "\n",
    "# Split the preprocessed data into a training and testing dataset\n",
    "X_train, X_test, y_train, y_test = train_test_split(X, y, random_state=78)"
   ]
  },
  {
   "cell_type": "code",
   "execution_count": 32,
   "metadata": {},
   "outputs": [],
   "source": [
    "# Create a StandardScaler instances\n",
    "scaler = StandardScaler()\n",
    "\n",
    "# Fit the StandardScaler\n",
    "X_scaler = scaler.fit(X_train)\n",
    "\n",
    "# Scale the data\n",
    "X_train_scaled = X_scaler.transform(X_train)\n",
    "X_test_scaled = X_scaler.transform(X_test)"
   ]
  },
  {
   "cell_type": "markdown",
   "metadata": {},
   "source": [
    "## Compile, Train and Evaluate the Model"
   ]
  },
  {
   "cell_type": "code",
   "execution_count": 34,
   "metadata": {},
   "outputs": [
    {
     "name": "stdout",
     "output_type": "stream",
     "text": [
      "Model: \"sequential_1\"\n",
      "_________________________________________________________________\n",
      " Layer (type)                Output Shape              Param #   \n",
      "=================================================================\n",
      " dense (Dense)               (None, 8)                 296       \n",
      "                                                                 \n",
      " dense_1 (Dense)             (None, 5)                 45        \n",
      "                                                                 \n",
      " dense_2 (Dense)             (None, 1)                 6         \n",
      "                                                                 \n",
      "=================================================================\n",
      "Total params: 347 (1.36 KB)\n",
      "Trainable params: 347 (1.36 KB)\n",
      "Non-trainable params: 0 (0.00 Byte)\n",
      "_________________________________________________________________\n"
     ]
    }
   ],
   "source": [
    "# Define the model - deep neural net\n",
    "number_input_features = len(X_train[0])\n",
    "hidden_nodes_layer1 =  8\n",
    "hidden_nodes_layer2 = 5\n",
    "\n",
    "nn = tf.keras.models.Sequential()\n",
    "\n",
    "# First hidden layer\n",
    "nn.add(\n",
    "    tf.keras.layers.Dense(units=hidden_nodes_layer1, input_dim=number_input_features, activation=\"relu\")\n",
    ")\n",
    "\n",
    "# Second hidden layer\n",
    "nn.add(tf.keras.layers.Dense(units=hidden_nodes_layer2, activation=\"relu\"))\n",
    "\n",
    "# Output layer\n",
    "nn.add(tf.keras.layers.Dense(units=1, activation=\"sigmoid\"))\n",
    "\n",
    "# Check the structure of the model\n",
    "nn.summary()"
   ]
  },
  {
   "cell_type": "code",
   "execution_count": 38,
   "metadata": {},
   "outputs": [],
   "source": [
    "# Compile the model\n",
    "nn.compile(loss=\"binary_crossentropy\", optimizer=\"adam\", metrics=[\"accuracy\"])"
   ]
  },
  {
   "cell_type": "code",
   "execution_count": 42,
   "metadata": {},
   "outputs": [
    {
     "name": "stdout",
     "output_type": "stream",
     "text": [
      "Epoch 1/50\n",
      "804/804 [==============================] - 1s 427us/step - loss: 0.6197 - accuracy: 0.6796\n",
      "Epoch 2/50\n",
      "804/804 [==============================] - 0s 407us/step - loss: 0.5924 - accuracy: 0.7037\n",
      "Epoch 3/50\n",
      "804/804 [==============================] - 0s 402us/step - loss: 0.5850 - accuracy: 0.7085\n",
      "Epoch 4/50\n",
      "804/804 [==============================] - 0s 400us/step - loss: 0.5820 - accuracy: 0.7085\n",
      "Epoch 5/50\n",
      "804/804 [==============================] - 0s 403us/step - loss: 0.5801 - accuracy: 0.7110\n",
      "Epoch 6/50\n",
      "804/804 [==============================] - 0s 409us/step - loss: 0.5786 - accuracy: 0.7111\n",
      "Epoch 7/50\n",
      "804/804 [==============================] - 0s 426us/step - loss: 0.5776 - accuracy: 0.7133\n",
      "Epoch 8/50\n",
      "804/804 [==============================] - 0s 401us/step - loss: 0.5769 - accuracy: 0.7117\n",
      "Epoch 9/50\n",
      "804/804 [==============================] - 0s 401us/step - loss: 0.5763 - accuracy: 0.7127\n",
      "Epoch 10/50\n",
      "804/804 [==============================] - 0s 402us/step - loss: 0.5759 - accuracy: 0.7126\n",
      "Epoch 11/50\n",
      "804/804 [==============================] - 0s 399us/step - loss: 0.5758 - accuracy: 0.7127\n",
      "Epoch 12/50\n",
      "804/804 [==============================] - 0s 406us/step - loss: 0.5755 - accuracy: 0.7140\n",
      "Epoch 13/50\n",
      "804/804 [==============================] - 0s 402us/step - loss: 0.5751 - accuracy: 0.7123\n",
      "Epoch 14/50\n",
      "804/804 [==============================] - 0s 429us/step - loss: 0.5750 - accuracy: 0.7130\n",
      "Epoch 15/50\n",
      "804/804 [==============================] - 0s 401us/step - loss: 0.5748 - accuracy: 0.7138\n",
      "Epoch 16/50\n",
      "804/804 [==============================] - 0s 407us/step - loss: 0.5746 - accuracy: 0.7138\n",
      "Epoch 17/50\n",
      "804/804 [==============================] - 0s 399us/step - loss: 0.5749 - accuracy: 0.7136\n",
      "Epoch 18/50\n",
      "804/804 [==============================] - 0s 401us/step - loss: 0.5744 - accuracy: 0.7138\n",
      "Epoch 19/50\n",
      "804/804 [==============================] - 0s 400us/step - loss: 0.5743 - accuracy: 0.7140\n",
      "Epoch 20/50\n",
      "804/804 [==============================] - 0s 406us/step - loss: 0.5744 - accuracy: 0.7138\n",
      "Epoch 21/50\n",
      "804/804 [==============================] - 0s 420us/step - loss: 0.5742 - accuracy: 0.7137\n",
      "Epoch 22/50\n",
      "804/804 [==============================] - 0s 414us/step - loss: 0.5741 - accuracy: 0.7137\n",
      "Epoch 23/50\n",
      "804/804 [==============================] - 0s 402us/step - loss: 0.5742 - accuracy: 0.7139\n",
      "Epoch 24/50\n",
      "804/804 [==============================] - 0s 401us/step - loss: 0.5740 - accuracy: 0.7145\n",
      "Epoch 25/50\n",
      "804/804 [==============================] - 0s 405us/step - loss: 0.5735 - accuracy: 0.7146\n",
      "Epoch 26/50\n",
      "804/804 [==============================] - 0s 410us/step - loss: 0.5739 - accuracy: 0.7142\n",
      "Epoch 27/50\n",
      "804/804 [==============================] - 0s 405us/step - loss: 0.5738 - accuracy: 0.7146\n",
      "Epoch 28/50\n",
      "804/804 [==============================] - 0s 439us/step - loss: 0.5736 - accuracy: 0.7142\n",
      "Epoch 29/50\n",
      "804/804 [==============================] - 0s 405us/step - loss: 0.5734 - accuracy: 0.7153\n",
      "Epoch 30/50\n",
      "804/804 [==============================] - 0s 404us/step - loss: 0.5736 - accuracy: 0.7146\n",
      "Epoch 31/50\n",
      "804/804 [==============================] - 0s 402us/step - loss: 0.5734 - accuracy: 0.7143\n",
      "Epoch 32/50\n",
      "804/804 [==============================] - 0s 400us/step - loss: 0.5733 - accuracy: 0.7141\n",
      "Epoch 33/50\n",
      "804/804 [==============================] - 0s 403us/step - loss: 0.5732 - accuracy: 0.7143\n",
      "Epoch 34/50\n",
      "804/804 [==============================] - 0s 413us/step - loss: 0.5730 - accuracy: 0.7150\n",
      "Epoch 35/50\n",
      "804/804 [==============================] - 0s 455us/step - loss: 0.5727 - accuracy: 0.7153\n",
      "Epoch 36/50\n",
      "804/804 [==============================] - 0s 402us/step - loss: 0.5728 - accuracy: 0.7161\n",
      "Epoch 37/50\n",
      "804/804 [==============================] - 0s 411us/step - loss: 0.5726 - accuracy: 0.7157\n",
      "Epoch 38/50\n",
      "804/804 [==============================] - 0s 402us/step - loss: 0.5725 - accuracy: 0.7154\n",
      "Epoch 39/50\n",
      "804/804 [==============================] - 0s 403us/step - loss: 0.5725 - accuracy: 0.7158\n",
      "Epoch 40/50\n",
      "804/804 [==============================] - 0s 451us/step - loss: 0.5726 - accuracy: 0.7158\n",
      "Epoch 41/50\n",
      "804/804 [==============================] - 0s 409us/step - loss: 0.5723 - accuracy: 0.7158\n",
      "Epoch 42/50\n",
      "804/804 [==============================] - 0s 403us/step - loss: 0.5726 - accuracy: 0.7164\n",
      "Epoch 43/50\n",
      "804/804 [==============================] - 0s 401us/step - loss: 0.5721 - accuracy: 0.7158\n",
      "Epoch 44/50\n",
      "804/804 [==============================] - 0s 404us/step - loss: 0.5719 - accuracy: 0.7158\n",
      "Epoch 45/50\n",
      "804/804 [==============================] - 0s 404us/step - loss: 0.5721 - accuracy: 0.7156\n",
      "Epoch 46/50\n",
      "804/804 [==============================] - 0s 400us/step - loss: 0.5721 - accuracy: 0.7163\n",
      "Epoch 47/50\n",
      "804/804 [==============================] - 0s 434us/step - loss: 0.5722 - accuracy: 0.7165\n",
      "Epoch 48/50\n",
      "804/804 [==============================] - 0s 402us/step - loss: 0.5721 - accuracy: 0.7164\n",
      "Epoch 49/50\n",
      "804/804 [==============================] - 0s 407us/step - loss: 0.5722 - accuracy: 0.7165\n",
      "Epoch 50/50\n",
      "804/804 [==============================] - 0s 404us/step - loss: 0.5720 - accuracy: 0.7165\n"
     ]
    }
   ],
   "source": [
    "# Train the model\n",
    "fit_model = nn.fit(X_train_scaled, y_train, epochs=50)"
   ]
  },
  {
   "cell_type": "code",
   "execution_count": 43,
   "metadata": {},
   "outputs": [
    {
     "name": "stdout",
     "output_type": "stream",
     "text": [
      "268/268 - 0s - loss: 0.5810 - accuracy: 0.7047 - 83ms/epoch - 309us/step\n",
      "Loss: 0.5809990763664246, Accuracy: 0.704723060131073\n"
     ]
    }
   ],
   "source": [
    "# Evaluate the model using the test data\n",
    "model_loss, model_accuracy = nn.evaluate(X_test_scaled,y_test,verbose=2)\n",
    "print(f\"Loss: {model_loss}, Accuracy: {model_accuracy}\")"
   ]
  },
  {
   "cell_type": "code",
   "execution_count": 45,
   "metadata": {},
   "outputs": [
    {
     "name": "stderr",
     "output_type": "stream",
     "text": [
      "/Users/rasheedah/Library/Python/3.9/lib/python/site-packages/keras/src/engine/training.py:3000: UserWarning: You are saving your model as an HDF5 file via `model.save()`. This file format is considered legacy. We recommend using instead the native Keras format, e.g. `model.save('my_model.keras')`.\n",
      "  saving_api.save_model(\n"
     ]
    }
   ],
   "source": [
    "# Export our model to HDF5 file\n",
    "nn.save(\"trained_model.h5\")"
   ]
  }
 ],
 "metadata": {
  "kernelspec": {
   "display_name": "Python 3",
   "language": "python",
   "name": "python3"
  },
  "language_info": {
   "codemirror_mode": {
    "name": "ipython",
    "version": 3
   },
   "file_extension": ".py",
   "mimetype": "text/x-python",
   "name": "python",
   "nbconvert_exporter": "python",
   "pygments_lexer": "ipython3",
   "version": "3.9.6"
  },
  "vscode": {
   "interpreter": {
    "hash": "31f2aee4e71d21fbe5cf8b01ff0e069b9275f58929596ceb00d14d90e3e16cd6"
   }
  }
 },
 "nbformat": 4,
 "nbformat_minor": 4
}
